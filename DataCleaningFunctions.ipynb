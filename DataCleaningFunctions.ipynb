{
 "cells": [
  {
   "cell_type": "code",
   "execution_count": 1,
   "id": "ef0e5a75",
   "metadata": {},
   "outputs": [],
   "source": [
    "# Required libraries \n",
    "import numpy as np\n",
    "import pandas as pd\n",
    "from sklearn.feature_selection import VarianceThreshold"
   ]
  },
  {
   "cell_type": "markdown",
   "id": "1274baa6",
   "metadata": {},
   "source": [
    "### 1. Identify columns that contain a single value <a class=\"anchor\" id=\"section1\"></a>"
   ]
  },
  {
   "cell_type": "code",
   "execution_count": 2,
   "id": "0f34d9b9",
   "metadata": {},
   "outputs": [],
   "source": [
    "# Function 1\n",
    "def loadFile(text_file):\n",
    "    '''Loads a text file & returns an ndarray'''\n",
    "    return(np.loadtxt(text_file, delimiter=','))\n",
    "\n",
    "# Function 2 \n",
    "def colValTotal(data):\n",
    "    '''Prints column index number & the number of unique values within that column'''\n",
    "    for i in range(data.shape[1]):\n",
    "        x, y = i, len(np.unique(data[:, i]))\n",
    "        print('{%i: %i}' % (x, y), end=' ')\n",
    "        \n",
    "# Function 3\n",
    "def colValTotalLow(data):\n",
    "    '''Prints column index number & the number of unique values within that column\n",
    "       if the number of unique values in that column is less than 5'''\n",
    "    for i in range(data.shape[1]):\n",
    "        x, y = i, len(np.unique(data[:, i]))\n",
    "        if y <= 5:\n",
    "            print('> Column index: %i Value(s) count: %i' % (x, y))"
   ]
  },
  {
   "cell_type": "markdown",
   "id": "8f8a97f2",
   "metadata": {},
   "source": [
    "### 2. Identify columns with very few unique values"
   ]
  },
  {
   "cell_type": "code",
   "execution_count": 3,
   "id": "7e5095dd",
   "metadata": {},
   "outputs": [],
   "source": [
    "# Function 4\n",
    "def colValPercentages(data):\n",
    "    '''Prints column index number, the number of unique values, & the percentage \n",
    "       of unique values out of all rows in that column'''\n",
    "    for i in range(data.shape[1]):\n",
    "        x, y = len(np.unique(data[:, i])), (float(len(np.unique(data[:, i]))) / data.shape[0] * 100)\n",
    "        print('{%i: %i, %.1f%%}' % (i, x, y), end=' ')\n",
    "        \n",
    "# Function 5\n",
    "def colValPercentagesLow(data):\n",
    "    '''Prints column index number, the number of unique values, & the percentage \n",
    "       of unique values out of all rows in that column if unique values are less\n",
    "       than 5% of the number of rows in that column'''\n",
    "    for i in range(data.shape[1]):\n",
    "        x, y = len(np.unique(data[:, i])), (float(len(np.unique(data[:, i]))) / data.shape[0] * 100)\n",
    "        if y <= 5:\n",
    "            print('{%i: %.1f%%}' % (i, y), end=' ')"
   ]
  },
  {
   "cell_type": "markdown",
   "id": "9c84207c",
   "metadata": {},
   "source": [
    "### 3. Identify columns with low variance"
   ]
  },
  {
   "cell_type": "code",
   "execution_count": 4,
   "id": "c75c345d",
   "metadata": {},
   "outputs": [],
   "source": [
    "# Function 6\n",
    "def varianceTransform(data, X, list):\n",
    "    '''\n",
    "    Applies transform to remove all columns with a variance between 0.0 and 0.5\n",
    "    \n",
    "    Thresholds from 0.0 to 0.5 with a step size of 0.05 (e.g. 0.0, 0.05, 0.1) \n",
    "    saved to variable. The transform is defined using VarianceThreshold & then \n",
    "    applied to input data. The number of input features for each given threshold\n",
    "    are also saved to a variable. Function then prints the number of features \n",
    "    in the transformed dataset for each given threshold (i.e. 0.0 - 0.5). The \n",
    "    results are stored in a list for future use (e.g. plotting a graph)\n",
    "    \n",
    "    Parameters\n",
    "    ----------\n",
    "    data : str\n",
    "        pandas DataFrame\n",
    "    X : str\n",
    "        the input data\n",
    "    list : list\n",
    "        an empty list to store the result of variance transformation\n",
    "    '''\n",
    "    thresholds = np.arange(0.0, 0.55, 0.05)\n",
    "    for i in thresholds: \n",
    "        transform = VarianceThreshold(threshold=i)\n",
    "        data = transform.fit_transform(X)\n",
    "        num_of_features = data.shape[1]\n",
    "        print('> Threshold=%.2f, Number of features=%d' % (i, num_of_features))\n",
    "        list.append(number_of_features)"
   ]
  },
  {
   "cell_type": "markdown",
   "id": "24598238",
   "metadata": {},
   "source": [
    "### 4. Visualisation"
   ]
  },
  {
   "cell_type": "code",
   "execution_count": 5,
   "id": "62cda321",
   "metadata": {},
   "outputs": [],
   "source": [
    "# Function 7\n",
    "def duplicateRows(dataframe):\n",
    "    '''Higlights all duplicate rows in DataFrame'''\n",
    "    rows_series = dataframe.duplicated(keep=False)\n",
    "    rows = rows_series[rows_series].index.values\n",
    "    return(dataframe.style.apply(lambda x: ['background: yellow' if x.name in rows else '' for i in x], axis=1))"
   ]
  }
 ],
 "metadata": {
  "kernelspec": {
   "display_name": "Python 3 (ipykernel)",
   "language": "python",
   "name": "python3"
  },
  "language_info": {
   "codemirror_mode": {
    "name": "ipython",
    "version": 3
   },
   "file_extension": ".py",
   "mimetype": "text/x-python",
   "name": "python",
   "nbconvert_exporter": "python",
   "pygments_lexer": "ipython3",
   "version": "3.9.6"
  }
 },
 "nbformat": 4,
 "nbformat_minor": 5
}
